{
 "cells": [
  {
   "attachments": {},
   "cell_type": "markdown",
   "metadata": {},
   "source": [
    "# Fifth Assignment\n",
    "\n",
    "__Author:__ Mobin Nesari 99222107\n",
    "\n",
    "__Course:__ Digital Image Processing"
   ]
  },
  {
   "attachments": {},
   "cell_type": "markdown",
   "metadata": {},
   "source": [
    "Import Required Libraries"
   ]
  },
  {
   "cell_type": "code",
   "execution_count": 5,
   "metadata": {},
   "outputs": [],
   "source": [
    "import numpy as np\n",
    "import cv2\n",
    "from collections import OrderedDict\n",
    "import scipy.fftpack as fftpack\n",
    "import zlib\n",
    "import getopt, sys"
   ]
  },
  {
   "attachments": {},
   "cell_type": "markdown",
   "metadata": {},
   "source": [
    "RGB to YCbCr converter\n",
    "`rgb2ycbcr` an input image in RGB format and converts it into YCbCr format. The function uses the following steps to perform the conversion:\n",
    "\n",
    "1. First, it converts the input RGB image into a float32 numpy array using the `astype` method.\n",
    "\n",
    "2. It then uses the OpenCV library's `cvtColor` method to convert the input RGB image into the YCrCb color space.\n",
    "\n",
    "3. The function then reorders the channels of the YCrCb image to be in the order Y, Cb, Cr, by indexing the numpy array with the tuple `(0, 2, 1)`.\n",
    "\n",
    "4. The next step is to scale the pixel values of the Y, Cb, and Cr channels to be in the range [0, 1]. To do this, it multiplies the values of the Y channel by `(235 - 16)` and adds `16`, and divides the result by `255.0`. It multiplies the values of the Cb and Cr channels by `(240 - 16)` and adds `16`, and divides the result by `255.0`.\n",
    "\n",
    "5. Finally, the function returns the YCbCr image as a numpy array."
   ]
  },
  {
   "cell_type": "code",
   "execution_count": 2,
   "metadata": {},
   "outputs": [],
   "source": [
    "def rgb2ycbcr(im_rgb):\n",
    "    im_rgb = im_rgb.astype(np.float32)\n",
    "    im_ycrcb = cv2.cvtColor(im_rgb, cv2.COLOR_RGB2YCR_CB)\n",
    "    im_ycbcr = im_ycrcb[:, :, (0, 2, 1)].astype(np.float32)\n",
    "    im_ycbcr[:, :, 0] = (im_ycbcr[:, :, 0]*(235-16)+16) / 255.0\n",
    "    im_ycbcr[:, :, 1:] = (im_ycbcr[:, :, 1:]*(240-16)+16) / 255.0\n",
    "    return im_ycbcr"
   ]
  },
  {
   "attachments": {},
   "cell_type": "markdown",
   "metadata": {},
   "source": [
    "YCbCr to RGB Converter\n",
    "`ycbcr2rgb` that takes an input image in YCbCr format and converts it into RGB format. The function performs the following steps to perform the conversion:\n",
    "\n",
    "1. First, the input YCbCr image is converted into a float32 numpy array using the `astype` method.\n",
    "\n",
    "2. Next, the function scales the pixel values of the Y, Cb, and Cr channels back to the original range of [0, 255]. To do this, it multiplies the values of the Y channel by `255.0`, subtracts `16`, and divides the result by `(235 - 16)`. It multiplies the values of the Cb and Cr channels by `255.0`, subtracts `16`, and divides the result by `(240 - 16)`.\n",
    "\n",
    "3. The function then reorders the channels of the YCbCr image to be in the order Y, Cr, Cb, by indexing the numpy array with the tuple `(0, 2, 1)`.\n",
    "\n",
    "4. It then uses the OpenCV library's `cvtColor` method to convert the reordered YCrCb image into the RGB color space.\n",
    "\n",
    "5. Finally, the function returns the RGB image as a numpy array.\n",
    "\n",
    "Note that the function requires the NumPy and OpenCV libraries to be imported and used in the code."
   ]
  },
  {
   "cell_type": "code",
   "execution_count": 8,
   "metadata": {},
   "outputs": [],
   "source": [
    "def ycbcr2rgb(im_ycbcr):\n",
    "    im_ycbcr = im_ycbcr.astype(np.float32)\n",
    "    im_ycbcr[:, :, 0] = (im_ycbcr[:, :, 0]*255.0-16)/(235-16)\n",
    "    im_ycbcr[:, :, 1:] = (im_ycbcr[:, :, 1:]*255.0-16)/(240-16)\n",
    "    im_ycrcb = im_ycbcr[:, :, (0, 2, 1)].astype(np.float32)\n",
    "    im_rgb = cv2.cvtColor(im_ycrcb, cv2.COLOR_YCR_CB2RGB)\n",
    "    return im_rgb"
   ]
  },
  {
   "attachments": {},
   "cell_type": "markdown",
   "metadata": {},
   "source": [
    "`runLengthEncoding` performs run-length encoding on a given message. Run-length encoding is a simple data compression technique that is used to reduce the size of data by representing repeated consecutive characters as a single count of the character followed by the character itself.\n",
    "\n",
    "The function takes a single argument, `message`, which is a string representing the input message to be encoded. The function performs the following steps to perform run-length encoding:\n",
    "\n",
    "1. It initializes an empty list `encoded_message` to store the encoded message.\n",
    "\n",
    "2. It sets a variable `i` to 0 to indicate the current index in the input message.\n",
    "\n",
    "3. The function enters a while loop that continues as long as `i` is less than or equal to the length of the input message minus 1.\n",
    "\n",
    "4. Within the loop, the function initializes a count variable `count` to 1 to count the number of consecutive occurrences of a character, and sets a variable `ch` to the character at index `i` of the input message.\n",
    "\n",
    "5. It sets a variable `j` to `i`.\n",
    "\n",
    "6. The function enters another while loop that continues as long as `j` is less than the length of the input message minus 1, and checks if the character at index `j` is the same as the character at index `j+1`. If they are the same, it increments the `count` variable and `j` by 1. If they are not the same, it breaks the inner while loop.\n",
    "\n",
    "7. After the inner while loop is exited, the function appends the character `ch` and its count `count` to the `encoded_message` list.\n",
    "\n",
    "8. It sets the `i` variable to `j+1` to skip the characters that have already been counted.\n",
    "\n",
    "9. The function returns the `encoded_message` list."
   ]
  },
  {
   "cell_type": "code",
   "execution_count": 3,
   "metadata": {},
   "outputs": [],
   "source": [
    "def runLengthEncoding(message):\n",
    "    encoded_message = []\n",
    "    i = 0\n",
    "\n",
    "    while (i <= len(message)-1):\n",
    "        count = 1\n",
    "        ch = message[i]\n",
    "        j = i\n",
    "        while (j < len(message)-1):\n",
    "            if (message[j] == message[j+1]):\n",
    "                count = count+1\n",
    "                j = j+1\n",
    "            else:\n",
    "                break\n",
    "        encoded_message.append(ch)\n",
    "        encoded_message.append(count)\n",
    "        i = j+1\n",
    "    return encoded_message"
   ]
  },
  {
   "attachments": {},
   "cell_type": "markdown",
   "metadata": {},
   "source": [
    "`runLengthDecoding` performs run-length decoding on a given input list. Run-length decoding is the reverse process of run-length encoding, which is used to recover the original data from a run-length encoded message.\n",
    "\n",
    "The function takes a single argument, `input`, which is a list representing the run-length encoded message to be decoded. The list should contain pairs of elements, where the first element is a character and the second element is the count of consecutive occurrences of that character.\n",
    "\n",
    "The function performs the following steps to perform run-length decoding:\n",
    "\n",
    "1. It initializes an empty list `ans` to store the decoded message.\n",
    "\n",
    "2. The function enters a for loop that iterates over the input list `input`, starting from the first element and incrementing by 2. This is because the input list contains pairs of elements.\n",
    "\n",
    "3. Within the for loop, the function enters another for loop that iterates from 1 to the count value of the current pair, which is the second element of the pair at index `i+1`.\n",
    "\n",
    "4. For each iteration of the inner for loop, the function appends the character value of the current pair, which is the first element of the pair at index `i`, to the `ans` list.\n",
    "\n",
    "5. After both for loops have completed, the function returns the `ans` list, which contains the decoded message.\n"
   ]
  },
  {
   "cell_type": "code",
   "execution_count": 4,
   "metadata": {},
   "outputs": [],
   "source": [
    "def runLengthDecoding(input):\n",
    "    ans = []\n",
    "    for i in range(0, len(input)-1, 2):\n",
    "        for j in range(1, input[i+1]+1):\n",
    "            ans.append(input[i])\n",
    "    return ans\n"
   ]
  },
  {
   "attachments": {},
   "cell_type": "markdown",
   "metadata": {},
   "source": [
    "JPEG Object Declaration\n",
    "\n",
    "This Python code defines a class `jpeg` that provides methods to encode and decode an input image in the JPEG format. The class takes two arguments in its constructor: `im`, which is the input image as a numpy array, and `quants`, which is a list of quantization tables for the image.\n",
    "\n",
    "The class provides several methods for encoding and decoding the image:\n",
    "\n",
    "- `encode_quant`: This method takes a quantization table `quant` as input and returns the quantized encoding of the image, which is obtained by dividing the image in the frequency domain by the quantization table and then rounding the result.\n",
    "\n",
    "- `decode_quant`: This method takes a quantization table `quant` as input and returns the de-quantized encoding of the image, which is obtained by multiplying the quantized encoding by the quantization table.\n",
    "\n",
    "- `encode_dct`: This method takes two arguments `bx` and `by`, which represent the block sizes for the image, and returns the discrete cosine transform (DCT) of the image after dividing it into blocks of size `bx` by `by`.\n",
    "\n",
    "- `decode_dct`: This method takes two arguments `bx` and `by`, which represent the block sizes for the image, and returns the inverse DCT of the image after dividing it into blocks of size `bx` by `by`.\n",
    "\n",
    "- `encode_zip`: This method compresses the quantized encoding of the image using the zlib library and returns the compressed result.\n",
    "\n",
    "- `decode_zip`: This method decompresses the compressed encoding of the image using the zlib library and returns the decompressed result.\n",
    "\n",
    "- `initiate`: This method takes four arguments: `qscale`, which represents the quantization scale for the image, `bx` and `by`, which represent the block sizes for the image, and `file_name`, which is the name to be used for the output file. The method initiates the encoding and decoding of the image by performing the DCT, quantization, and compression steps, and storing the results in class variables.\n",
    "\n",
    "- `img_bgr`: This method converts the decoded image from YCbCr color space to RGB color space using the `ycbcr2rgb` function and writes the resulting image to a file with the given `file_name` and \".jpeg\" extension.\n"
   ]
  },
  {
   "cell_type": "code",
   "execution_count": 6,
   "metadata": {},
   "outputs": [],
   "source": [
    "class jpeg:\n",
    "    def __init__(self, im, quants):\n",
    "        self.image = im\n",
    "        self.quants = quants\n",
    "        super().__init__()\n",
    "\n",
    "    def encode_quant(self, quant):\n",
    "        return (self.enc / quant).astype(np.int)\n",
    "\n",
    "    def decode_quant(self, quant):\n",
    "        return (self.encq * quant).astype(float)\n",
    "\n",
    "    def encode_dct(self, bx, by):\n",
    "        new_shape = (\n",
    "            self.image.shape[0] // bx * bx,\n",
    "            self.image.shape[1] // by * by,\n",
    "            3\n",
    "        )\n",
    "        new = self.image[\n",
    "            :new_shape[0],\n",
    "            :new_shape[1]\n",
    "        ].reshape((\n",
    "            new_shape[0] // bx,\n",
    "            bx,\n",
    "            new_shape[1] // by,\n",
    "            by,\n",
    "            3\n",
    "        ))\n",
    "        return fftpack.dctn(new, axes=[1, 3], norm='ortho')\n",
    "\n",
    "    def decode_dct(self, bx, by):\n",
    "        return fftpack.idctn(self.decq, axes=[1, 3], norm='ortho'\n",
    "                            ).reshape((\n",
    "                                self.decq.shape[0]*bx,\n",
    "                                self.decq.shape[2]*by,\n",
    "                                3\n",
    "                            ))\n",
    "\n",
    "    def encode_zip(self):\n",
    "        return zlib.compress(self.encq.astype(np.int8).tobytes())\n",
    "\n",
    "    def decode_zip(self):\n",
    "        return np.frombuffer(zlib.decompress(self.encz), dtype=np.int8).astype(float).reshape(self.encq.shape)\n",
    "\n",
    "    def initiate(self, qscale, bx, by, file_name: str):\n",
    "        quant = (\n",
    "                (np.ones((bx, by)) * (qscale * qscale))\n",
    "                .clip(-100, 100)  # to prevent clipping\n",
    "                .reshape((1, bx, 1, by, 1))\n",
    "        )\n",
    "        self.enc = self.encode_dct(bx, by)\n",
    "        self.encq = self.encode_quant(quant)\n",
    "        self.encz = self.encode_zip()\n",
    "        self.decz = self.decode_zip()\n",
    "        self.decq = self.decode_quant(quant)\n",
    "        self.dec = self.decode_dct(bx, by)\n",
    "        img_bgr = ycbcr2rgb(self.dec)\n",
    "\n",
    "        cv2.imwrite(file_name + \".jpeg\", img_bgr.astype(np.uint8))        \n"
   ]
  },
  {
   "attachments": {},
   "cell_type": "markdown",
   "metadata": {},
   "source": [
    "Test on first sample image"
   ]
  },
  {
   "cell_type": "code",
   "execution_count": 9,
   "metadata": {},
   "outputs": [
    {
     "name": "stderr",
     "output_type": "stream",
     "text": [
      "/var/folders/8c/_d448xqd3jv95wsy13gvbxn40000gn/T/ipykernel_2156/1061222413.py:8: DeprecationWarning: `np.int` is a deprecated alias for the builtin `int`. To silence this warning, use `int` by itself. Doing this will not modify any behavior and is safe. When replacing `np.int`, you may wish to use e.g. `np.int64` or `np.int32` to specify the precision. If you wish to review your current use, check the release note link for additional information.\n",
      "Deprecated in NumPy 1.20; for more details and guidance: https://numpy.org/devdocs/release/1.20.0-notes.html#deprecations\n",
      "  return (self.enc / quant).astype(np.int)\n"
     ]
    }
   ],
   "source": [
    "input_dir = \"img1.jpg\"\n",
    "output_dir = \"./\"\n",
    "quant_size = 5\n",
    "block_size = 8\n",
    "\n",
    "im = cv2.imread(input_dir)\n",
    "Ycr = rgb2ycbcr(im)\n",
    "obj=jpeg(Ycr,[5])\n",
    "quants = [quant_size]\n",
    "blocks = [(block_size,block_size)]  \n",
    "for qscale in quants:\n",
    "    for bx, by in blocks:\n",
    "        obj.initiate(qscale,bx,by, 'img1_comp')"
   ]
  },
  {
   "attachments": {},
   "cell_type": "markdown",
   "metadata": {},
   "source": [
    "Test on second sample image"
   ]
  },
  {
   "cell_type": "code",
   "execution_count": 10,
   "metadata": {},
   "outputs": [
    {
     "name": "stderr",
     "output_type": "stream",
     "text": [
      "/var/folders/8c/_d448xqd3jv95wsy13gvbxn40000gn/T/ipykernel_2156/1061222413.py:8: DeprecationWarning: `np.int` is a deprecated alias for the builtin `int`. To silence this warning, use `int` by itself. Doing this will not modify any behavior and is safe. When replacing `np.int`, you may wish to use e.g. `np.int64` or `np.int32` to specify the precision. If you wish to review your current use, check the release note link for additional information.\n",
      "Deprecated in NumPy 1.20; for more details and guidance: https://numpy.org/devdocs/release/1.20.0-notes.html#deprecations\n",
      "  return (self.enc / quant).astype(np.int)\n"
     ]
    }
   ],
   "source": [
    "input_dir = \"img2.jpg\"\n",
    "output_dir = \"./\"\n",
    "quant_size = 5\n",
    "block_size = 8\n",
    "\n",
    "im = cv2.imread(input_dir)\n",
    "Ycr = rgb2ycbcr(im)\n",
    "obj=jpeg(Ycr,[5])\n",
    "quants = [quant_size]\n",
    "blocks = [(block_size,block_size)]  \n",
    "for qscale in quants:\n",
    "    for bx, by in blocks:\n",
    "        obj.initiate(qscale,bx,by, 'img2_comp')"
   ]
  },
  {
   "cell_type": "code",
   "execution_count": null,
   "metadata": {},
   "outputs": [],
   "source": []
  }
 ],
 "metadata": {
  "kernelspec": {
   "display_name": "Python 3",
   "language": "python",
   "name": "python3"
  },
  "language_info": {
   "codemirror_mode": {
    "name": "ipython",
    "version": 3
   },
   "file_extension": ".py",
   "mimetype": "text/x-python",
   "name": "python",
   "nbconvert_exporter": "python",
   "pygments_lexer": "ipython3",
   "version": "3.10.7"
  },
  "orig_nbformat": 4
 },
 "nbformat": 4,
 "nbformat_minor": 2
}
